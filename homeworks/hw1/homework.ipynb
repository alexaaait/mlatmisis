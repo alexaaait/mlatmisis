{
 "cells": [
  {
   "cell_type": "markdown",
   "metadata": {},
   "source": [
    "# Домашнее задание 1"
   ]
  },
  {
   "cell_type": "code",
   "execution_count": 11,
   "metadata": {},
   "outputs": [],
   "source": [
    "import numpy as np\n",
    "import pandas as pd\n",
    "import matplotlib.pyplot as plt"
   ]
  },
  {
   "cell_type": "markdown",
   "metadata": {},
   "source": [
    "## Numpy"
   ]
  },
  {
   "cell_type": "markdown",
   "metadata": {},
   "source": [
    "### Создайте двумерный массив 5x5 с 1 на границе и 0 внутри."
   ]
  },
  {
   "cell_type": "code",
   "execution_count": 12,
   "metadata": {},
   "outputs": [],
   "source": [
    "def border():\n",
    "    a = np.ones((5, 5))\n",
    "    a[1:-1, 1:-1] = 0\n",
    "    return a"
   ]
  },
  {
   "cell_type": "markdown",
   "metadata": {},
   "source": [
    "### Создайте матрицу 8x8 и заполните ее шахматным узором."
   ]
  },
  {
   "cell_type": "code",
   "execution_count": 13,
   "metadata": {},
   "outputs": [],
   "source": [
    "def checkerboard():\n",
    "    a = np.zeros((8, 8), dtype=int)\n",
    "    a[::2, ::2] = 1\n",
    "    a[1::2, 1::2] = 1\n",
    "    return a"
   ]
  },
  {
   "cell_type": "markdown",
   "metadata": {},
   "source": [
    "### Вычтите из каждой строки матрицы среднее этой строки"
   ]
  },
  {
   "cell_type": "code",
   "execution_count": 14,
   "metadata": {},
   "outputs": [],
   "source": [
    "def sub():\n",
    "    a = np.array([[1, 2, 3], [3, 4, 5], [6, 7, 8]])\n",
    "    row_means = np.mean(a, axis=1, keepdims=True)\n",
    "    return a - row_means"
   ]
  },
  {
   "cell_type": "markdown",
   "metadata": {},
   "source": [
    "### Как отсортировать матрицу по последней строке?"
   ]
  },
  {
   "cell_type": "code",
   "execution_count": 15,
   "metadata": {},
   "outputs": [],
   "source": [
    "def sort():\n",
    "    a = np.array([[1, 2, 3], [3, 4, 5], [6, 7, 8]])\n",
    "    sorted_indices = np.argsort(a[-1])\n",
    "    return a[:, sorted_indices]"
   ]
  },
  {
   "cell_type": "markdown",
   "metadata": {},
   "source": [
    "## Pandas"
   ]
  },
  {
   "cell_type": "code",
   "execution_count": 16,
   "metadata": {},
   "outputs": [],
   "source": [
    "data = {'animal': ['cat', 'cat', 'snake', 'dog', 'dog', 'cat', 'snake', 'cat', 'dog', 'dog'],\n",
    "        'age': [2.5, 3, 0.5, np.nan, 5, 2, 4.5, np.nan, 7, 3],\n",
    "        'visits': [1, 3, 2, 3, 2, 3, 1, 1, 2, 1],\n",
    "        'priority': ['yes', 'yes', 'no', 'yes', 'no', 'no', 'no', 'yes', 'no', 'no']}\n",
    "\n",
    "labels = ['a', 'b', 'c', 'd', 'e', 'f', 'g', 'h', 'i', 'j']\n",
    "\n",
    "df = pd.DataFrame(data, index=labels)"
   ]
  },
  {
   "cell_type": "markdown",
   "metadata": {},
   "source": [
    "### Выберите данные в 3, 4, 5 строчке колонок `animal` и `age`"
   ]
  },
  {
   "cell_type": "code",
   "execution_count": 17,
   "metadata": {},
   "outputs": [],
   "source": [
    "def animal_age(df):\n",
    "    selected_rows = df.iloc[2:5]\n",
    "    return selected_rows[['animal', 'age']]"
   ]
  },
  {
   "cell_type": "markdown",
   "metadata": {},
   "source": [
    "### Выберите строки, где животное является котом и возраст меньше 3"
   ]
  },
  {
   "cell_type": "code",
   "execution_count": 18,
   "metadata": {},
   "outputs": [],
   "source": [
    "def cats(df):\n",
    "    return df[(df['animal'] == 'cat') & (df['age'] < 3)]"
   ]
  },
  {
   "cell_type": "markdown",
   "metadata": {},
   "source": [
    "### Для каждого типа животного и количества посещений найдите средний возраст. Другими словами, каждая строка - это животное, каждый столбец - количество посещений, а значения - средний возраст"
   ]
  },
  {
   "cell_type": "code",
   "execution_count": 19,
   "metadata": {},
   "outputs": [],
   "source": [
    "def mean_table(df):\n",
    "    return df.groupby(['animal', 'visits'])['age'].mean()"
   ]
  },
  {
   "cell_type": "markdown",
   "metadata": {},
   "source": [
    "### DataFrame имеет столбец групп 'grps' и столбец целочисленных значений 'vals'. Для каждой группы найдите сумму трех наибольших значений."
   ]
  },
  {
   "cell_type": "code",
   "execution_count": 20,
   "metadata": {},
   "outputs": [],
   "source": [
    "def threesome():\n",
    "    data = {\n",
    "        \"grps\": [\"a\", \"a\", \"a\", \"b\", \"b\", \"b\"],\n",
    "        \"vals\": [100, 200, 109, 50, 23, 100]\n",
    "    }\n",
    "    df = pd.DataFrame(data)\n",
    "    \n",
    "    result = df.groupby('grps')['vals'].apply(lambda x: x.nlargest(3).sum())\n",
    "    return result"
   ]
  },
  {
   "cell_type": "markdown",
   "metadata": {},
   "source": [
    "## Matplotlib\n",
    "\n",
    "Тут сложно написать тесты, так что надеюсь на вашу честность. Поставьте `True`, если вы сделали задание "
   ]
  },
  {
   "cell_type": "markdown",
   "metadata": {},
   "source": [
    "### Нарисуйте пару смешных графиков для `df` (который с животными)\n",
    "Это не дз по датавизу, если хотите - можем сделать такую пару"
   ]
  },
  {
   "cell_type": "code",
   "execution_count": null,
   "metadata": {},
   "outputs": [],
   "source": [
    "def plots():\n",
    "    # График 1: Количество животных по типам (столбчатая диаграмма)\n",
    "    animal_counts = df['animal'].value_counts()\n",
    "    animal_counts.plot(kind='bar', color=['skyblue', 'lightgreen', 'salmon'])\n",
    "    plt.title('Количество животных по типам 🐱🐶🐍')\n",
    "    plt.xlabel('Тип животного')\n",
    "    plt.ylabel('Количество')\n",
    "    plt.show()\n",
    "\n",
    "    # График 2: Доля животных с приоритетом 'yes' и 'no' (круговая диаграмма)\n",
    "    priority_counts = df['priority'].value_counts()\n",
    "    priority_counts.plot(kind='pie', autopct='%1.1f%%', colors=['gold', 'lightcoral'], explode=(0.1, 0))\n",
    "    plt.title('Доля животных с приоритетом 🚨/обычным')\n",
    "    plt.ylabel('')\n",
    "    plt.show()\n",
    "\n",
    "    return True"
   ]
  }
 ],
 "metadata": {
  "kernelspec": {
   "display_name": "Python 3 (ipykernel)",
   "language": "python",
   "name": "python3"
  },
  "language_info": {
   "codemirror_mode": {
    "name": "ipython",
    "version": 3
   },
   "file_extension": ".py",
   "mimetype": "text/x-python",
   "name": "python",
   "nbconvert_exporter": "python",
   "pygments_lexer": "ipython3",
   "version": "3.11.7"
  }
 },
 "nbformat": 4,
 "nbformat_minor": 4
}
